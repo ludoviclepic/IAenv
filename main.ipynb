{
 "cells": [
  {
   "cell_type": "code",
   "execution_count": null,
   "metadata": {},
   "outputs": [
    {
     "name": "stderr",
     "output_type": "stream",
     "text": [
      "/Users/ludoviclepic/Documents/MINES/3A/MVA/IAEnv/MiniProjet/venv/lib/python3.12/site-packages/tslearn/bases/bases.py:15: UserWarning: h5py not installed, hdf5 features will not be supported.\n",
      "Install h5py to use hdf5 features: http://docs.h5py.org/\n",
      "  warn(h5py_msg)\n"
     ]
    }
   ],
   "source": [
    "import argparse\n",
    "import numpy as np\n",
    "import importlib\n",
    "\n",
    "import data_loader\n",
    "import model\n",
    "\n",
    "importlib.reload(data_loader)\n",
    "importlib.reload(model)\n",
    "\n",
    "from data_loader import get_data_splits\n",
    "from model import NearestNeighborDTW, KMeansSoftDTW\n"
   ]
  },
  {
   "cell_type": "code",
   "execution_count": 3,
   "metadata": {},
   "outputs": [
    {
     "ename": "ValueError",
     "evalue": "invalid literal for int() with base 10: 'acquisition_date'",
     "output_type": "error",
     "traceback": [
      "\u001b[31m---------------------------------------------------------------------------\u001b[39m",
      "\u001b[31mValueError\u001b[39m                                Traceback (most recent call last)",
      "\u001b[36mCell\u001b[39m\u001b[36m \u001b[39m\u001b[32mIn[3]\u001b[39m\u001b[32m, line 2\u001b[39m\n\u001b[32m      1\u001b[39m root_dir = \u001b[33m\"\u001b[39m\u001b[33m/Users/ludoviclepic/Downloads/TimeSen2Crop-2echantillon\u001b[39m\u001b[33m\"\u001b[39m\n\u001b[32m----> \u001b[39m\u001b[32m2\u001b[39m \u001b[43mload_all_tiles_and_save_npy\u001b[49m\u001b[43m(\u001b[49m\u001b[43mroot_dir\u001b[49m\u001b[43m,\u001b[49m\u001b[43m \u001b[49m\u001b[43mout_npy_prefix\u001b[49m\u001b[43m=\u001b[49m\u001b[33;43m\"\u001b[39;49m\u001b[33;43mtimesen2crop\u001b[39;49m\u001b[33;43m\"\u001b[39;49m\u001b[43m)\u001b[49m\n",
      "\u001b[36mFile \u001b[39m\u001b[32m~/Documents/MINES/3A/MVA/IAEnv/MiniProjet/data_loader.py:172\u001b[39m, in \u001b[36mload_all_tiles_and_save_npy\u001b[39m\u001b[34m(root_dir, out_npy_prefix, train_ratio, val_ratio, test_ratio, random_seed)\u001b[39m\n\u001b[32m    170\u001b[39m all_labels = []\n\u001b[32m    171\u001b[39m \u001b[38;5;28;01mfor\u001b[39;00m tile_d \u001b[38;5;129;01min\u001b[39;00m tile_dirs:\n\u001b[32m--> \u001b[39m\u001b[32m172\u001b[39m     tile_data, tile_labels = \u001b[43mparse_one_tile\u001b[49m\u001b[43m(\u001b[49m\u001b[43mtile_d\u001b[49m\u001b[43m)\u001b[49m\n\u001b[32m    173\u001b[39m     all_data.extend(tile_data)\n\u001b[32m    174\u001b[39m     all_labels.extend(tile_labels)\n",
      "\u001b[36mFile \u001b[39m\u001b[32m~/Documents/MINES/3A/MVA/IAEnv/MiniProjet/data_loader.py:122\u001b[39m, in \u001b[36mparse_one_tile\u001b[39m\u001b[34m(tile_dir)\u001b[39m\n\u001b[32m    119\u001b[39m     \u001b[38;5;28;01mraise\u001b[39;00m \u001b[38;5;167;01mFileNotFoundError\u001b[39;00m(\u001b[33mf\u001b[39m\u001b[33m\"\u001b[39m\u001b[33mNo dates.csv found in \u001b[39m\u001b[38;5;132;01m{\u001b[39;00mtile_dir\u001b[38;5;132;01m}\u001b[39;00m\u001b[33m\"\u001b[39m)\n\u001b[32m    121\u001b[39m \u001b[38;5;66;03m# The user’s dataset has \"YYYYMMDD\" rows presumably\u001b[39;00m\n\u001b[32m--> \u001b[39m\u001b[32m122\u001b[39m tile_dates = \u001b[43mpd\u001b[49m\u001b[43m.\u001b[49m\u001b[43mread_csv\u001b[49m\u001b[43m(\u001b[49m\u001b[43mfull_dates_path\u001b[49m\u001b[43m,\u001b[49m\u001b[43m \u001b[49m\u001b[43mheader\u001b[49m\u001b[43m=\u001b[49m\u001b[38;5;28;43;01mNone\u001b[39;49;00m\u001b[43m)\u001b[49m\u001b[43m.\u001b[49m\u001b[43mvalues\u001b[49m\u001b[43m[\u001b[49m\u001b[43m:\u001b[49m\u001b[43m,\u001b[49m\u001b[32;43m0\u001b[39;49m\u001b[43m]\u001b[49m\u001b[43m.\u001b[49m\u001b[43mastype\u001b[49m\u001b[43m(\u001b[49m\u001b[38;5;28;43mint\u001b[39;49m\u001b[43m)\u001b[49m\n\u001b[32m    124\u001b[39m data_list = []\n\u001b[32m    125\u001b[39m label_list = []\n",
      "\u001b[31mValueError\u001b[39m: invalid literal for int() with base 10: 'acquisition_date'"
     ]
    }
   ],
   "source": [
    "root_dir = \"/Users/ludoviclepic/Downloads/TimeSen2Crop-2echantillon\"\n",
    "load_all_tiles_and_save_npy(root_dir, out_npy_prefix=\"timesen2crop\")"
   ]
  },
  {
   "cell_type": "code",
   "execution_count": 2,
   "metadata": {},
   "outputs": [
    {
     "ename": "FileNotFoundError",
     "evalue": "[Errno 2] No such file or directory: 'timesen2crop_X_train.npy'",
     "output_type": "error",
     "traceback": [
      "\u001b[31m---------------------------------------------------------------------------\u001b[39m",
      "\u001b[31mFileNotFoundError\u001b[39m                         Traceback (most recent call last)",
      "\u001b[36mCell\u001b[39m\u001b[36m \u001b[39m\u001b[32mIn[2]\u001b[39m\u001b[32m, line 1\u001b[39m\n\u001b[32m----> \u001b[39m\u001b[32m1\u001b[39m train_dataset = \u001b[43mNpyTimeSeriesDataset\u001b[49m\u001b[43m(\u001b[49m\u001b[33;43m\"\u001b[39;49m\u001b[33;43mtimesen2crop_X_train.npy\u001b[39;49m\u001b[33;43m\"\u001b[39;49m\u001b[43m,\u001b[49m\u001b[43m \u001b[49m\u001b[33;43m\"\u001b[39;49m\u001b[33;43mtimesen2crop_y_train.npy\u001b[39;49m\u001b[33;43m\"\u001b[39;49m\u001b[43m)\u001b[49m\n\u001b[32m      2\u001b[39m val_dataset   = NpyTimeSeriesDataset(\u001b[33m\"\u001b[39m\u001b[33mtimesen2crop_X_val.npy\u001b[39m\u001b[33m\"\u001b[39m,   \u001b[33m\"\u001b[39m\u001b[33mtimesen2crop_y_val.npy\u001b[39m\u001b[33m\"\u001b[39m)\n\u001b[32m      3\u001b[39m test_dataset  = NpyTimeSeriesDataset(\u001b[33m\"\u001b[39m\u001b[33mtimesen2crop_X_test.npy\u001b[39m\u001b[33m\"\u001b[39m,  \u001b[33m\"\u001b[39m\u001b[33mtimesen2crop_y_test.npy\u001b[39m\u001b[33m\"\u001b[39m)\n",
      "\u001b[36mFile \u001b[39m\u001b[32m~/Documents/MINES/3A/MVA/IAEnv/MiniProjet/data_loader.py:215\u001b[39m, in \u001b[36mNpyTimeSeriesDataset.__init__\u001b[39m\u001b[34m(self, x_npy_path, y_npy_path)\u001b[39m\n\u001b[32m    214\u001b[39m \u001b[38;5;28;01mdef\u001b[39;00m\u001b[38;5;250m \u001b[39m\u001b[34m__init__\u001b[39m(\u001b[38;5;28mself\u001b[39m, x_npy_path: \u001b[38;5;28mstr\u001b[39m, y_npy_path: \u001b[38;5;28mstr\u001b[39m):\n\u001b[32m--> \u001b[39m\u001b[32m215\u001b[39m     \u001b[38;5;28mself\u001b[39m.X = \u001b[43mnp\u001b[49m\u001b[43m.\u001b[49m\u001b[43mload\u001b[49m\u001b[43m(\u001b[49m\u001b[43mx_npy_path\u001b[49m\u001b[43m)\u001b[49m\n\u001b[32m    216\u001b[39m     \u001b[38;5;28mself\u001b[39m.y = np.load(y_npy_path)\n",
      "\u001b[36mFile \u001b[39m\u001b[32m~/Documents/MINES/3A/MVA/IAEnv/MiniProjet/venv/lib/python3.12/site-packages/numpy/lib/_npyio_impl.py:459\u001b[39m, in \u001b[36mload\u001b[39m\u001b[34m(file, mmap_mode, allow_pickle, fix_imports, encoding, max_header_size)\u001b[39m\n\u001b[32m    457\u001b[39m     own_fid = \u001b[38;5;28;01mFalse\u001b[39;00m\n\u001b[32m    458\u001b[39m \u001b[38;5;28;01melse\u001b[39;00m:\n\u001b[32m--> \u001b[39m\u001b[32m459\u001b[39m     fid = stack.enter_context(\u001b[38;5;28;43mopen\u001b[39;49m\u001b[43m(\u001b[49m\u001b[43mos\u001b[49m\u001b[43m.\u001b[49m\u001b[43mfspath\u001b[49m\u001b[43m(\u001b[49m\u001b[43mfile\u001b[49m\u001b[43m)\u001b[49m\u001b[43m,\u001b[49m\u001b[43m \u001b[49m\u001b[33;43m\"\u001b[39;49m\u001b[33;43mrb\u001b[39;49m\u001b[33;43m\"\u001b[39;49m\u001b[43m)\u001b[49m)\n\u001b[32m    460\u001b[39m     own_fid = \u001b[38;5;28;01mTrue\u001b[39;00m\n\u001b[32m    462\u001b[39m \u001b[38;5;66;03m# Code to distinguish from NumPy binary files and pickles.\u001b[39;00m\n",
      "\u001b[31mFileNotFoundError\u001b[39m: [Errno 2] No such file or directory: 'timesen2crop_X_train.npy'"
     ]
    }
   ],
   "source": [
    "train_dataset = NpyTimeSeriesDataset(\"timesen2crop_X_train.npy\", \"timesen2crop_y_train.npy\")\n",
    "val_dataset   = NpyTimeSeriesDataset(\"timesen2crop_X_val.npy\",   \"timesen2crop_y_val.npy\")\n",
    "test_dataset  = NpyTimeSeriesDataset(\"timesen2crop_X_test.npy\",  \"timesen2crop_y_test.npy\")\n",
    "\n",
    "X_train, y_train = train_dataset.X, train_dataset.y\n",
    "X_val,   y_val   = val_dataset.X,   val_dataset.y\n",
    "X_test,  y_test  = test_dataset.X,  test_dataset.y\n",
    "\n",
    "print(\"Train shape:\", X_train.shape, y_train.shape)\n",
    "print(\"Val   shape:\", X_val.shape,   y_val.shape)\n",
    "print(\"Test  shape:\", X_test.shape,  y_test.shape)"
   ]
  },
  {
   "cell_type": "code",
   "execution_count": null,
   "metadata": {},
   "outputs": [],
   "source": []
  }
 ],
 "metadata": {
  "kernelspec": {
   "display_name": "venv",
   "language": "python",
   "name": "python3"
  },
  "language_info": {
   "codemirror_mode": {
    "name": "ipython",
    "version": 3
   },
   "file_extension": ".py",
   "mimetype": "text/x-python",
   "name": "python",
   "nbconvert_exporter": "python",
   "pygments_lexer": "ipython3",
   "version": "3.12.7"
  }
 },
 "nbformat": 4,
 "nbformat_minor": 2
}
