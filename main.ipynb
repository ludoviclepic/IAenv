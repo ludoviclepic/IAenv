{
 "cells": [
  {
   "cell_type": "code",
   "execution_count": 2,
   "metadata": {},
   "outputs": [],
   "source": [
    "import os\n",
    "import numpy as np\n",
    "import torch\n",
    "from torch.utils.data import DataLoader, TensorDataset\n",
    "import matplotlib.pyplot as plt\n",
    "\n",
    "from data_loader import SatelliteTimeSeriesDataset, train_test_split\n",
    "from supervised_model import DeformableNCC, training_loop\n",
    "from unsupervised_dtw_clustering import DTWClustering, dtw_distance\n",
    "from evaluate_and_visualize import evaluate_supervised, evaluate_clustering, plot_prototype_reconstruction, plot_dtw_alignment\n"
   ]
  },
  {
   "cell_type": "code",
   "execution_count": 5,
   "metadata": {},
   "outputs": [
    {
     "name": "stderr",
     "output_type": "stream",
     "text": [
      "Processing regions: 100%|██████████| 2/2 [00:00<00:00, 11.46it/s]\n",
      "Loading time series: 100%|██████████| 2/2 [00:12<00:00,  6.21s/it]\n",
      "Processing regions: 100%|██████████| 2/2 [00:00<00:00, 42.18it/s]\n",
      "Loading time series: 100%|██████████| 2/2 [00:09<00:00,  4.70s/it]\n",
      "Processing regions: 100%|██████████| 2/2 [00:00<00:00, 99.30it/s]\n",
      "Loading time series: 100%|██████████| 2/2 [00:08<00:00,  4.23s/it]\n"
     ]
    }
   ],
   "source": [
    "# ===== Data Loading =====\n",
    "from data_loader import SatelliteTimeSeriesDataset, train_test_split\n",
    "\n",
    "data_root = \"/Users/ludoviclepic/Downloads/TimeSen2Crop-2echantillon\"\n",
    "dataset = SatelliteTimeSeriesDataset(data_root, normalize=True)\n",
    "train_set, test_set = train_test_split(dataset, test_fraction=0.2)\n"
   ]
  },
  {
   "cell_type": "code",
   "execution_count": 6,
   "metadata": {},
   "outputs": [],
   "source": [
    "# ===== Prepare DataLoader for Supervised Model =====\n",
    "train_tensor = torch.tensor(train_set.data, dtype=torch.float32)\n",
    "train_labels = torch.tensor(train_set.labels, dtype=torch.long)\n",
    "train_dataset = TensorDataset(train_tensor, train_labels)\n",
    "train_loader = DataLoader(train_dataset, batch_size=32, shuffle=True)\n"
   ]
  },
  {
   "cell_type": "code",
   "execution_count": null,
   "metadata": {},
   "outputs": [
    {
     "name": "stderr",
     "output_type": "stream",
     "text": [
      "Supervised Training Epochs:   5%|▌         | 1/20 [02:31<47:57, 151.45s/it]"
     ]
    },
    {
     "name": "stdout",
     "output_type": "stream",
     "text": [
      "Epoch 1/20, Loss: 0.0895\n"
     ]
    },
    {
     "name": "stderr",
     "output_type": "stream",
     "text": [
      "Supervised Training Epochs:  10%|█         | 2/20 [05:01<45:12, 150.69s/it]"
     ]
    },
    {
     "name": "stdout",
     "output_type": "stream",
     "text": [
      "Epoch 2/20, Loss: 0.0219\n"
     ]
    },
    {
     "name": "stderr",
     "output_type": "stream",
     "text": [
      "Supervised Training Epochs:  15%|█▌        | 3/20 [08:01<46:30, 164.16s/it]"
     ]
    },
    {
     "name": "stdout",
     "output_type": "stream",
     "text": [
      "Epoch 3/20, Loss: 0.0213\n"
     ]
    },
    {
     "name": "stderr",
     "output_type": "stream",
     "text": [
      "Supervised Training Epochs:  20%|██        | 4/20 [11:23<47:45, 179.07s/it]"
     ]
    },
    {
     "name": "stdout",
     "output_type": "stream",
     "text": [
      "Epoch 4/20, Loss: 0.0215\n"
     ]
    },
    {
     "name": "stderr",
     "output_type": "stream",
     "text": [
      "Supervised Training Epochs:  25%|██▌       | 5/20 [14:16<44:09, 176.65s/it]"
     ]
    },
    {
     "name": "stdout",
     "output_type": "stream",
     "text": [
      "Epoch 5/20, Loss: 0.0213\n"
     ]
    },
    {
     "name": "stderr",
     "output_type": "stream",
     "text": [
      "Supervised Training Epochs:  30%|███       | 6/20 [17:26<42:20, 181.47s/it]"
     ]
    },
    {
     "name": "stdout",
     "output_type": "stream",
     "text": [
      "Epoch 6/20, Loss: 0.0213\n"
     ]
    },
    {
     "name": "stderr",
     "output_type": "stream",
     "text": [
      "Supervised Training Epochs:  35%|███▌      | 7/20 [20:46<40:37, 187.47s/it]"
     ]
    },
    {
     "name": "stdout",
     "output_type": "stream",
     "text": [
      "Epoch 7/20, Loss: 0.0214\n"
     ]
    },
    {
     "name": "stderr",
     "output_type": "stream",
     "text": []
    }
   ],
   "source": [
    "# ===== Supervised Model =====\n",
    "from supervised_model import DeformableNCC, training_loop\n",
    "num_classes = len(train_set.class_names)\n",
    "series_length = train_set.data.shape[1]\n",
    "num_bands = train_set.data.shape[2]\n",
    "model = DeformableNCC(num_classes, series_length, num_bands)\n",
    "model.class_names = train_set.class_names\n",
    "\n",
    "training_loop(model, train_loader, num_epochs=20, lr=1e-3, mu=1.0, nu=0.01)\n"
   ]
  },
  {
   "cell_type": "code",
   "execution_count": null,
   "metadata": {},
   "outputs": [],
   "source": []
  }
 ],
 "metadata": {
  "kernelspec": {
   "display_name": "venv",
   "language": "python",
   "name": "python3"
  },
  "language_info": {
   "codemirror_mode": {
    "name": "ipython",
    "version": 3
   },
   "file_extension": ".py",
   "mimetype": "text/x-python",
   "name": "python",
   "nbconvert_exporter": "python",
   "pygments_lexer": "ipython3",
   "version": "3.12.7"
  }
 },
 "nbformat": 4,
 "nbformat_minor": 2
}
